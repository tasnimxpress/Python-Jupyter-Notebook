{
 "cells": [
  {
   "cell_type": "markdown",
   "id": "4801f79a",
   "metadata": {},
   "source": [
    "# Variables Homework 2 "
   ]
  },
  {
   "cell_type": "markdown",
   "id": "ded94dcd",
   "metadata": {},
   "source": [
    "Homework 1: Guess Output of a fibonacchi number\n",
    "num1=1\n",
    "num2=2\n",
    "\n",
    "num3= num1+num2\n",
    "reapet six times"
   ]
  },
  {
   "cell_type": "code",
   "execution_count": 1,
   "id": "c138f629",
   "metadata": {},
   "outputs": [
    {
     "name": "stdout",
     "output_type": "stream",
     "text": [
      "3\n"
     ]
    }
   ],
   "source": [
    "num1=1\n",
    "num2=2\n",
    "\n",
    "num3= num1+num2\n",
    "print(num3)"
   ]
  },
  {
   "cell_type": "code",
   "execution_count": 2,
   "id": "b2cbd81d",
   "metadata": {},
   "outputs": [
    {
     "name": "stdout",
     "output_type": "stream",
     "text": [
      "5\n"
     ]
    }
   ],
   "source": [
    "num1=num2\n",
    "num2=num3\n",
    "\n",
    "num3=num1+num2\n",
    "print(num3)"
   ]
  },
  {
   "cell_type": "code",
   "execution_count": 3,
   "id": "19b5fb2d",
   "metadata": {},
   "outputs": [
    {
     "name": "stdout",
     "output_type": "stream",
     "text": [
      "8\n"
     ]
    }
   ],
   "source": [
    "num1=num2\n",
    "num2=num3\n",
    "\n",
    "num3=num1+num2\n",
    "print(num3)"
   ]
  },
  {
   "cell_type": "code",
   "execution_count": 4,
   "id": "caf73c42",
   "metadata": {},
   "outputs": [
    {
     "name": "stdout",
     "output_type": "stream",
     "text": [
      "13\n"
     ]
    }
   ],
   "source": [
    "num1=num2\n",
    "num2=num3\n",
    "\n",
    "num3=num1+num2\n",
    "print(num3)"
   ]
  },
  {
   "cell_type": "code",
   "execution_count": 5,
   "id": "cac3aea0",
   "metadata": {},
   "outputs": [
    {
     "name": "stdout",
     "output_type": "stream",
     "text": [
      "21\n"
     ]
    }
   ],
   "source": [
    "num1=num2\n",
    "num2=num3\n",
    "\n",
    "num3=num1+num2\n",
    "print(num3)"
   ]
  },
  {
   "cell_type": "code",
   "execution_count": 6,
   "id": "71271f5a",
   "metadata": {},
   "outputs": [
    {
     "name": "stdout",
     "output_type": "stream",
     "text": [
      "34\n"
     ]
    }
   ],
   "source": [
    "num1=num2\n",
    "num2=num3\n",
    "\n",
    "num3=num1+num2\n",
    "print(num3)"
   ]
  },
  {
   "cell_type": "markdown",
   "id": "d0387281",
   "metadata": {},
   "source": [
    "Homework 2: Swapping 2 numbers! \n",
    "● Write a program that reads 2 integers num1 and num2\n",
    "○ E.g. say we read num1 = 7 and num2 = 25\n",
    "● Target: we want swap the values of num1 and num2?\n",
    "○ Swap means exchange\n",
    "○ So Num1 has value 25 and Num2 has value 7\n",
    "○ Write 3 lines of code only\n"
   ]
  },
  {
   "cell_type": "code",
   "execution_count": 8,
   "id": "6d56b61d",
   "metadata": {},
   "outputs": [
    {
     "name": "stdout",
     "output_type": "stream",
     "text": [
      "12 21\n",
      "21 21\n"
     ]
    }
   ],
   "source": [
    "num1, num2= map(int, input().split())\n",
    "num1=num2\n",
    "num2=num1\n",
    "print(num1, num2)"
   ]
  }
 ],
 "metadata": {
  "kernelspec": {
   "display_name": "Python 3",
   "language": "python",
   "name": "python3"
  },
  "language_info": {
   "codemirror_mode": {
    "name": "ipython",
    "version": 3
   },
   "file_extension": ".py",
   "mimetype": "text/x-python",
   "name": "python",
   "nbconvert_exporter": "python",
   "pygments_lexer": "ipython3",
   "version": "3.8.8"
  }
 },
 "nbformat": 4,
 "nbformat_minor": 5
}
