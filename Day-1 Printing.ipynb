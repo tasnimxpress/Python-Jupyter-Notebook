{
 "cells": [
  {
   "cell_type": "markdown",
   "id": "a6894574",
   "metadata": {},
   "source": [
    "# Printing Homework"
   ]
  },
  {
   "cell_type": "markdown",
   "id": "f4685a9e",
   "metadata": {},
   "source": [
    "Homework 1: Guess the run-time output (a)\n",
    "● Pass over the code line by line\n",
    "● Read and think what will be the output\n",
    "● We call that code tracing\n"
   ]
  },
  {
   "cell_type": "code",
   "execution_count": 3,
   "id": "37507191",
   "metadata": {},
   "outputs": [
    {
     "name": "stdout",
     "output_type": "stream",
     "text": [
      "practice Makes perfect.\n"
     ]
    }
   ],
   "source": [
    "print('practice', \"Makes perfect.\")"
   ]
  },
  {
   "cell_type": "markdown",
   "id": "973317df",
   "metadata": {},
   "source": [
    "Homework 1: Guess the run-time output (b)\n",
    "● Pass over the code line by line\n",
    "● Read and think what will be the output\n",
    "● We call that code tracing\n"
   ]
  },
  {
   "cell_type": "code",
   "execution_count": 4,
   "id": "9477ad91",
   "metadata": {},
   "outputs": [
    {
     "name": "stdout",
     "output_type": "stream",
     "text": [
      "Children must be taught\n",
      " how to think\n",
      " NOT\n",
      " what to think\n"
     ]
    }
   ],
   "source": [
    "print(\"Children must be taught\\n how to think\\n NOT\\n what to think\")"
   ]
  },
  {
   "cell_type": "markdown",
   "id": "93aa6c8e",
   "metadata": {},
   "source": [
    "Homework 1: Guess the run-time output (c)\n",
    "● Pass over the code line by line\n",
    "● Read and think what will be the output\n",
    "● We call that code tracing\n"
   ]
  },
  {
   "cell_type": "code",
   "execution_count": 5,
   "id": "da47423c",
   "metadata": {},
   "outputs": [
    {
     "name": "stdout",
     "output_type": "stream",
     "text": [
      "\"\"\n"
     ]
    }
   ],
   "source": [
    "print(\"\\\"\\\"\")"
   ]
  },
  {
   "cell_type": "markdown",
   "id": "a6b752af",
   "metadata": {},
   "source": [
    "Homework 1: Guess the run-time output (d)\n",
    "● Pass over the code line by line\n",
    "● Read and think what will be the output\n",
    "● We call that code tracing\n"
   ]
  },
  {
   "cell_type": "code",
   "execution_count": 2,
   "id": "66c843d6",
   "metadata": {},
   "outputs": [
    {
     "name": "stdout",
     "output_type": "stream",
     "text": [
      "2*3*4*5/10= \n"
     ]
    }
   ],
   "source": [
    "print('2*3*4*5/10= ')"
   ]
  },
  {
   "cell_type": "markdown",
   "id": "516fd9ea",
   "metadata": {},
   "source": [
    "Homework 1: Guess the run-time output (e)\n",
    "● Pass over the code line by line\n",
    "● Read and think what will be the output\n",
    "● We call that code tracing\n"
   ]
  },
  {
   "cell_type": "code",
   "execution_count": 1,
   "id": "b0a6595d",
   "metadata": {},
   "outputs": [
    {
     "name": "stdout",
     "output_type": "stream",
     "text": [
      "12.0\n"
     ]
    }
   ],
   "source": [
    "print(2*3*4*5/10)"
   ]
  },
  {
   "cell_type": "markdown",
   "id": "3b3d66c7",
   "metadata": {},
   "source": [
    "Homework 2:\n",
    "● Write a program that its output matches exactly this output\n",
    "● You should write EXACTLY 4 commands\n",
    "● Your output must match EXACTLY the below output\n",
    "Print(\"Me\")\n",
    "Print('Me')\n",
    "Print('Me\")\n",
    "You will learn\n",
    " a LOT"
   ]
  },
  {
   "cell_type": "code",
   "execution_count": 10,
   "id": "45e4c396",
   "metadata": {},
   "outputs": [
    {
     "name": "stdout",
     "output_type": "stream",
     "text": [
      "Print(\"Me\")\n",
      "Print('Me')\n",
      "Print('Me\")\n",
      "You will learn\n",
      " a LOT\n"
     ]
    }
   ],
   "source": [
    "print('Print(\"Me\")')\n",
    "print(\"Print('Me')\")\n",
    "print(\"Print('Me\\\")\")\n",
    "print(\"You will learn\\n a LOT\")"
   ]
  },
  {
   "cell_type": "markdown",
   "id": "5f7e0e15",
   "metadata": {},
   "source": [
    "Homework 3: Write code to print the following\n",
    "*\n",
    "* *\n",
    "* * *\n",
    "* * * *\n",
    "* * * * *"
   ]
  },
  {
   "cell_type": "code",
   "execution_count": 12,
   "id": "6c1df309",
   "metadata": {},
   "outputs": [
    {
     "name": "stdout",
     "output_type": "stream",
     "text": [
      "*\n",
      "* *\n",
      "* * *\n",
      "* * * *\n",
      "* * * * *\n"
     ]
    }
   ],
   "source": [
    "print(\"*\\n* *\\n* * *\\n* * * *\\n* * * * *\")"
   ]
  },
  {
   "cell_type": "markdown",
   "id": "8db94622",
   "metadata": {},
   "source": [
    "Homework 4: Write code to print the following\n",
    "        *        \n",
    "      * * *      \n",
    "    * * * * *    \n",
    "  * * * * * * *  \n",
    "* * * * * * * * *\n",
    "\n"
   ]
  },
  {
   "cell_type": "code",
   "execution_count": 13,
   "id": "47088f90",
   "metadata": {},
   "outputs": [
    {
     "name": "stdout",
     "output_type": "stream",
     "text": [
      "        *        \n",
      "      * * *      \n",
      "    * * * * *    \n",
      "  * * * * * * *  \n",
      "* * * * * * * * *\n"
     ]
    }
   ],
   "source": [
    "print(\"        *        \")\n",
    "print(\"      * * *      \")\n",
    "print(\"    * * * * *    \")\n",
    "print(\"  * * * * * * *  \")\n",
    "print(\"* * * * * * * * *\")"
   ]
  },
  {
   "cell_type": "markdown",
   "id": "6b23bb76",
   "metadata": {},
   "source": [
    "Homework 5: Write code to print the following\n",
    "       *        \n",
    "      * * *      \n",
    "    * * * * *    \n",
    "  * * * * * * *  \n",
    "* * * * * * * * *\n",
    "  * * * * * * *  \n",
    "    * * * * *    \n",
    "      * * *      \n",
    "        * "
   ]
  },
  {
   "cell_type": "code",
   "execution_count": 14,
   "id": "009cb326",
   "metadata": {},
   "outputs": [
    {
     "name": "stdout",
     "output_type": "stream",
     "text": [
      "        *        \n",
      "      * * *      \n",
      "    * * * * *    \n",
      "  * * * * * * *  \n",
      "* * * * * * * * *\n",
      "  * * * * * * *  \n",
      "    * * * * *    \n",
      "      * * *      \n",
      "        *        \n"
     ]
    }
   ],
   "source": [
    "print(\"        *        \")\n",
    "print(\"      * * *      \")\n",
    "print(\"    * * * * *    \")\n",
    "print(\"  * * * * * * *  \")\n",
    "print(\"* * * * * * * * *\")\n",
    "print(\"  * * * * * * *  \")\n",
    "print(\"    * * * * *    \")\n",
    "print(\"      * * *      \")\n",
    "print(\"        *        \")"
   ]
  },
  {
   "cell_type": "markdown",
   "id": "5d97d5ce",
   "metadata": {},
   "source": [
    "Homework 6: Correct me\n",
    "print(Hi)\n",
    "print()\n",
    "print\"I am Tasnim)\n",
    "print(3 * 6)\n",
    "print\"Wonderful \" day)\n",
    "print(\"Wonderful \" day\")"
   ]
  },
  {
   "cell_type": "code",
   "execution_count": 17,
   "id": "ef2934d1",
   "metadata": {},
   "outputs": [
    {
     "name": "stdout",
     "output_type": "stream",
     "text": [
      "Hi\n",
      "\n",
      "I am Tasnim\n",
      "Wonderful day\n",
      "Wonderful \" day\n"
     ]
    }
   ],
   "source": [
    "print('Hi')\n",
    "print()\n",
    "print(\"I am Tasnim\")\n",
    "print(\"Wonderful day\")\n",
    "print(\"Wonderful \\\" day\")"
   ]
  },
  {
   "cell_type": "code",
   "execution_count": null,
   "id": "0b0c57d7",
   "metadata": {},
   "outputs": [],
   "source": []
  }
 ],
 "metadata": {
  "kernelspec": {
   "display_name": "Python 3",
   "language": "python",
   "name": "python3"
  },
  "language_info": {
   "codemirror_mode": {
    "name": "ipython",
    "version": 3
   },
   "file_extension": ".py",
   "mimetype": "text/x-python",
   "name": "python",
   "nbconvert_exporter": "python",
   "pygments_lexer": "ipython3",
   "version": "3.8.8"
  }
 },
 "nbformat": 4,
 "nbformat_minor": 5
}
