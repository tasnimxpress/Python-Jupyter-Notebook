{
 "cells": [
  {
   "cell_type": "markdown",
   "id": "52c104dd",
   "metadata": {},
   "source": [
    "# Homework 1: Health potion"
   ]
  },
  {
   "cell_type": "markdown",
   "id": "fcfd271c",
   "metadata": {},
   "source": []
  },
  {
   "cell_type": "code",
   "execution_count": 25,
   "id": "b46f43b9",
   "metadata": {},
   "outputs": [
    {
     "name": "stdout",
     "output_type": "stream",
     "text": [
      "1\n",
      "94\n"
     ]
    }
   ],
   "source": [
    "import random\n",
    "start_health=50\n",
    "potion_health= random.randint(25,50)\n",
    "\n",
    "difficulty= int(input())\n",
    "\n",
    "new_health= int(start_health + potion_health/difficulty)\n",
    "print(new_health)"
   ]
  },
  {
   "cell_type": "code",
   "execution_count": null,
   "id": "e1d9ebd2",
   "metadata": {},
   "outputs": [],
   "source": []
  }
 ],
 "metadata": {
  "kernelspec": {
   "display_name": "Python 3",
   "language": "python",
   "name": "python3"
  },
  "language_info": {
   "codemirror_mode": {
    "name": "ipython",
    "version": 3
   },
   "file_extension": ".py",
   "mimetype": "text/x-python",
   "name": "python",
   "nbconvert_exporter": "python",
   "pygments_lexer": "ipython3",
   "version": "3.8.8"
  }
 },
 "nbformat": 4,
 "nbformat_minor": 5
}
