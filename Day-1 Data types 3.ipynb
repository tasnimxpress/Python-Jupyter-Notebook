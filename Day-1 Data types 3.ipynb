{
 "cells": [
  {
   "cell_type": "markdown",
   "id": "aa455661",
   "metadata": {},
   "source": [
    "# Variables Homework 3"
   ]
  },
  {
   "cell_type": "markdown",
   "id": "6a620f29",
   "metadata": {},
   "source": [
    "Homework 1: Swapping 3 numbers!\n",
    "● Write a code to swap 3 numbers\n",
    "● Let say we have numbers a = 115, b = 20, c = 301\n",
    "● We wanna their final values to be: a = 20, b = 301, c = 115\n"
   ]
  },
  {
   "cell_type": "code",
   "execution_count": 2,
   "id": "6532aca9",
   "metadata": {},
   "outputs": [
    {
     "name": "stdout",
     "output_type": "stream",
     "text": [
      "115 20 301\n",
      "20 301 115\n"
     ]
    }
   ],
   "source": [
    "num1, num2, num3= map(int, input().split())\n",
    "\n",
    "num1, num2, num3=num2, num3, num1\n",
    "\n",
    "print(num1, num2, num3)"
   ]
  },
  {
   "cell_type": "markdown",
   "id": "181c6d9a",
   "metadata": {},
   "source": [
    "Homework 2: Print Me\n",
    "● Write a program that reads 2 integers A, B\n",
    "○ B is either -1 or 1\n",
    "■ If B is -1, print 2*A+1\n",
    "■ If B is 1, print A*A\n",
    "● Input: 7 1 ⇒ 49.0\n",
    "● Input: 7 -1 ⇒ 15.0\n",
    "● Hint\n",
    "○ You need to think in a 1 line formula for the outpu"
   ]
  },
  {
   "cell_type": "code",
   "execution_count": 13,
   "id": "eca3fa4c",
   "metadata": {},
   "outputs": [
    {
     "name": "stdout",
     "output_type": "stream",
     "text": [
      "21\n",
      "231.0\n"
     ]
    }
   ],
   "source": [
    "n=int(input())\n",
    "print((n*(n+1)/2))"
   ]
  }
 ],
 "metadata": {
  "kernelspec": {
   "display_name": "Python 3",
   "language": "python",
   "name": "python3"
  },
  "language_info": {
   "codemirror_mode": {
    "name": "ipython",
    "version": 3
   },
   "file_extension": ".py",
   "mimetype": "text/x-python",
   "name": "python",
   "nbconvert_exporter": "python",
   "pygments_lexer": "ipython3",
   "version": "3.8.8"
  }
 },
 "nbformat": 4,
 "nbformat_minor": 5
}
