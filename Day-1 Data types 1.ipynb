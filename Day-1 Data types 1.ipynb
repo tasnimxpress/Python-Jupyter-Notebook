{
 "cells": [
  {
   "cell_type": "markdown",
   "id": "02367294",
   "metadata": {},
   "source": [
    "# Variables Homework:"
   ]
  },
  {
   "cell_type": "markdown",
   "id": "45979892",
   "metadata": {},
   "source": [
    "Homework 1: Math operations\n",
    "● Write a program that reads 2 numbers and print their + - * / computations as \n",
    "in the picture\n",
    "● Do good testing for your code\n",
    "○ E.g. consider negative values \n",
    "○ E.g. even and odd values\n",
    "○ E.g. consider zero as first or 2nd number\n"
   ]
  },
  {
   "cell_type": "code",
   "execution_count": 1,
   "id": "84e8460b",
   "metadata": {},
   "outputs": [
    {
     "name": "stdout",
     "output_type": "stream",
     "text": [
      "Enter first number: 12\n",
      "Enter second number: 23\n",
      "35\n",
      "-11\n",
      "276\n",
      "0.5217391304347826\n"
     ]
    }
   ],
   "source": [
    "first_number= input(\"Enter first number: \")\n",
    "second_number= input(\"Enter second number: \")\n",
    "print(int(first_number)+int(second_number))\n",
    "print(int(first_number)-int(second_number))\n",
    "print(int(first_number)*int(second_number))\n",
    "print(int(first_number)/int(second_number))\n",
    "\n"
   ]
  },
  {
   "cell_type": "markdown",
   "id": "23e7e323",
   "metadata": {},
   "source": [
    "Homework 2: Students grades\n",
    "Write a program that reads 2 students information about math exam\n",
    "○ For each student read: his name, id and grade\n",
    "● Print the students\n",
    "● Print the grades average"
   ]
  },
  {
   "cell_type": "code",
   "execution_count": 26,
   "id": "553ef595",
   "metadata": {},
   "outputs": [
    {
     "name": "stdout",
     "output_type": "stream",
     "text": [
      "Enter first students name: Tasnim\n",
      "Enter first student id: 34\n",
      "Enter first student grade: 4\n",
      "Enter second students name: Rasi\n",
      "Enter second student id: 12\n",
      "Enter second student grade: 5\n",
      "Information for students and their 'Math' grades \n",
      "Tasnim (ID 34) got grade: 4.0\n",
      "Rasi (ID 12) got grade: 5.0\n",
      "Average math grade:  4.5\n"
     ]
    }
   ],
   "source": [
    "student1_name= input(\"Enter first students name: \")\n",
    "student1_id= input(\"Enter first student id: \")\n",
    "student1_grade= float(input(\"Enter first student grade: \"))\n",
    "\n",
    "student2_name= input(\"Enter second students name: \")\n",
    "student2_id= input(\"Enter second student id: \")\n",
    "student2_grade= float(input(\"Enter second student grade: \"))\n",
    "\n",
    "\n",
    "print(\"Information for students and their 'Math' grades \")\n",
    "student1= student1_name +\" \"+ '(ID' +\" \"+ student1_id +\")\" +\" \"+\"got grade:\" +\" \"+str(student1_grade) \n",
    "print(student1)\n",
    "\n",
    "student2= student2_name +\" \"+ '(ID' +\" \"+ student2_id +\")\" +\" \"+\"got grade:\" +\" \"+str(student2_grade)\n",
    "print(student2)\n",
    "\n",
    "Average= (student1_grade+student2_grade)/2\n",
    "print(\"Average math grade: \",Average)\n",
    "\n"
   ]
  },
  {
   "cell_type": "markdown",
   "id": "d3053d21",
   "metadata": {},
   "source": [
    "Homework 3: Even and Odd sum\n",
    "● Given 8 space-separated integers, find the sum of those in even places and \n",
    "the sum of those in odd places.\n",
    "○ Note: Even place means the 2nd, 4th, 6th or 8th numbers, \n",
    " odd places are the 1st, 3rd, 5th and 7th numbers.\n",
    "○ Note: the 8 numbers will be on the same line\n",
    "○ Note: Don’t print any welcome or by messages. "
   ]
  },
  {
   "cell_type": "code",
   "execution_count": 31,
   "id": "670202f0",
   "metadata": {},
   "outputs": [
    {
     "name": "stdout",
     "output_type": "stream",
     "text": [
      "11 2 7 9 12 -8 3 -1\n",
      "2\n",
      "33\n"
     ]
    }
   ],
   "source": [
    "odd1, even1, odd2, even2, odd3, even3, odd4, even4= map(int, input().split())\n",
    "even_sum= even1+even2+even3+even4\n",
    "odd_sum= odd1+odd2+odd3+odd4\n",
    "print(even_sum)\n",
    "print(odd_sum)"
   ]
  },
  {
   "cell_type": "markdown",
   "id": "5d9eb735",
   "metadata": {},
   "source": [
    "Homework 4: Special concatenation\n",
    "● Write a program that read 3 strings.\n",
    "○ For simplicity let’s say input is 3 letters A, B and C\n",
    "● The output is A’B”C repeated 10 times\n",
    "○ A’B”CA’B”CA’B”CA’B”CA’B”CA’B”CA’B”CA’B”CA’B”CA’B”C"
   ]
  },
  {
   "cell_type": "code",
   "execution_count": 35,
   "id": "4e9ee464",
   "metadata": {},
   "outputs": [
    {
     "name": "stdout",
     "output_type": "stream",
     "text": [
      "I\n",
      "am\n",
      "Tasnim\n",
      "I'am\"TasnimI'am\"TasnimI'am\"TasnimI'am\"TasnimI'am\"TasnimI'am\"TasnimI'am\"TasnimI'am\"TasnimI'am\"TasnimI'am\"Tasnim\n"
     ]
    }
   ],
   "source": [
    "str1= input()\n",
    "str2=input()\n",
    "str3=input()\n",
    "\n",
    "output= (str1+\"'\"+str2+'\"'+str3)*10\n",
    "print(output)"
   ]
  }
 ],
 "metadata": {
  "kernelspec": {
   "display_name": "Python 3",
   "language": "python",
   "name": "python3"
  },
  "language_info": {
   "codemirror_mode": {
    "name": "ipython",
    "version": 3
   },
   "file_extension": ".py",
   "mimetype": "text/x-python",
   "name": "python",
   "nbconvert_exporter": "python",
   "pygments_lexer": "ipython3",
   "version": "3.8.8"
  }
 },
 "nbformat": 4,
 "nbformat_minor": 5
}
